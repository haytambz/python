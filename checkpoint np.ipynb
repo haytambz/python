{
 "cells": [
  {
   "cell_type": "code",
   "execution_count": 26,
   "id": "15146ef9",
   "metadata": {},
   "outputs": [],
   "source": [
    "import numpy as np"
   ]
  },
  {
   "cell_type": "code",
   "execution_count": 39,
   "id": "fe70e37f",
   "metadata": {
    "scrolled": true
   },
   "outputs": [
    {
     "data": {
      "text/plain": [
       "[20, 40, 80, 100, 120]"
      ]
     },
     "execution_count": 39,
     "metadata": {},
     "output_type": "execute_result"
    }
   ],
   "source": [
    "arr = np.array ([20, 40, 80, 100, 120])\n",
    "arr.tolist()"
   ]
  },
  {
   "cell_type": "code",
   "execution_count": 50,
   "id": "c9668921",
   "metadata": {},
   "outputs": [
    {
     "name": "stdout",
     "output_type": "stream",
     "text": [
      "32\n"
     ]
    }
   ],
   "source": [
    "n_array = np.array([[20, 40, 30],[1, 12, 66]])\n",
    "trace = np.trace(n_array)\n",
    "print(trace)"
   ]
  },
  {
   "cell_type": "code",
   "execution_count": 62,
   "id": "08fd01b4",
   "metadata": {},
   "outputs": [
    {
     "name": "stdout",
     "output_type": "stream",
     "text": [
      "[7 6]\n",
      "(array([0, 1]), array([1, 1]))\n"
     ]
    }
   ],
   "source": [
    "x = np.array([[5,7,3],[2,6,5]])\n",
    "\n",
    "print( x[x>5])\n",
    "print( np.nonzero(x > 5))"
   ]
  },
  {
   "cell_type": "code",
   "execution_count": 64,
   "id": "334aa184",
   "metadata": {},
   "outputs": [
    {
     "name": "stdout",
     "output_type": "stream",
     "text": [
      "c= [ 7 10 20]\n"
     ]
    }
   ],
   "source": [
    "a = np.array([5,4,11])\n",
    "b = np.array([2,6,9])\n",
    "c = a+b\n",
    "print(\"c=\",c)"
   ]
  },
  {
   "cell_type": "code",
   "execution_count": 72,
   "id": "db78421c",
   "metadata": {},
   "outputs": [
    {
     "name": "stdout",
     "output_type": "stream",
     "text": [
      "[[ 0.32523016  0.30384812 -0.16625759 -0.46282069]\n",
      " [ 0.14232621  0.03281256 -0.33276277  0.157624  ]\n",
      " [-0.16462572 -0.17343634  0.41227106 -0.074209  ]]\n",
      "[[-0.16499306  0.25414484 -0.04525944 -0.04389234]\n",
      " [ 0.34673611 -0.37988413 -0.17819419  0.2113422 ]\n",
      " [ 0.03435455 -0.25795935  0.46829656 -0.24469176]]\n"
     ]
    }
   ],
   "source": [
    "a = np.random.rand(3, 4)\n",
    "b = np.random.rand(3, 4)\n",
    "c = a - a.mean(axis=1, keepdims=True)\n",
    "d = b - b.mean(axis=1, keepdims=True)\n",
    "print(c)\n",
    "print (d)"
   ]
  },
  {
   "cell_type": "code",
   "execution_count": null,
   "id": "be8f1480",
   "metadata": {},
   "outputs": [],
   "source": []
  }
 ],
 "metadata": {
  "kernelspec": {
   "display_name": "Python 3",
   "language": "python",
   "name": "python3"
  },
  "language_info": {
   "codemirror_mode": {
    "name": "ipython",
    "version": 3
   },
   "file_extension": ".py",
   "mimetype": "text/x-python",
   "name": "python",
   "nbconvert_exporter": "python",
   "pygments_lexer": "ipython3",
   "version": "3.8.8"
  }
 },
 "nbformat": 4,
 "nbformat_minor": 5
}
