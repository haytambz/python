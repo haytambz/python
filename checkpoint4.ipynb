{
 "cells": [
  {
   "cell_type": "code",
   "execution_count": 10,
   "id": "278837d9",
   "metadata": {},
   "outputs": [
    {
     "data": {
      "text/plain": [
       "35"
      ]
     },
     "execution_count": 10,
     "metadata": {},
     "output_type": "execute_result"
    }
   ],
   "source": [
    "def maximum(numbers):\n",
    "    v = 0\n",
    "    for n in numbers :\n",
    "        if v<=n:\n",
    "            v=n\n",
    "    return v\n",
    "numbers=(20, 35, 19)\n",
    "maximum(numbers)"
   ]
  },
  {
   "cell_type": "code",
   "execution_count": 23,
   "id": "56d8fc5f",
   "metadata": {},
   "outputs": [
    {
     "name": "stdout",
     "output_type": "stream",
     "text": [
      "50 30\n"
     ]
    }
   ],
   "source": [
    "def operation(a,b):\n",
    "    add = a+b\n",
    "    \n",
    "    sub = a-b\n",
    "    print(add,sub)\n",
    "a = 40\n",
    "b = 10\n",
    "    \n",
    "operation(a,b)"
   ]
  },
  {
   "cell_type": "code",
   "execution_count": 56,
   "id": "83b76130",
   "metadata": {
    "scrolled": true
   },
   "outputs": [
    {
     "data": {
      "text/plain": [
       "79"
      ]
     },
     "execution_count": 56,
     "metadata": {},
     "output_type": "execute_result"
    }
   ],
   "source": [
    "def suma(numbers):\n",
    "    total = 0\n",
    "    for x in numbers:\n",
    "        total += x\n",
    "    return total\n",
    "numbers = [6, 15, 32, 7, 19]\n",
    "suma(numbers)"
   ]
  },
  {
   "cell_type": "code",
   "execution_count": 57,
   "id": "a6c41a93",
   "metadata": {},
   "outputs": [
    {
     "data": {
      "text/plain": [
       "240"
      ]
     },
     "execution_count": 57,
     "metadata": {},
     "output_type": "execute_result"
    }
   ],
   "source": [
    "def suma(numbers):\n",
    "    total = 1\n",
    "    for x in numbers:\n",
    "        total *= x\n",
    "    return total\n",
    "numbers = [2, 5, 3, 2, 4]\n",
    "suma(numbers)"
   ]
  },
  {
   "cell_type": "code",
   "execution_count": 67,
   "id": "2d0b6442",
   "metadata": {},
   "outputs": [
    {
     "name": "stdout",
     "output_type": "stream",
     "text": [
      "[6, 32, 19, 2, 3, 4]\n",
      "1050\n"
     ]
    }
   ],
   "source": [
    "list1 = [6, 15, 32, 7, 19]\n",
    "list2 = [2, 5, 3, 2, 4]\n",
    "list3 = []\n",
    "list4 = []\n",
    "for i in range(len(list1)):\n",
    "    if i % 2 == 0:\n",
    "        list3.append(list1[i])\n",
    "for i in range(len(list2)):\n",
    "    if i % 2 == 0:\n",
    "        list3.append(list2[i])\n",
    "print(list3)\n",
    "for i in range(len(list2)):\n",
    "    if i % 2 != 0:\n",
    "        list4.extend([list1[i],list2[i]])\n",
    "        total = 1\n",
    "        for x in list4:\n",
    "            total *= x\n",
    "print(total)"
   ]
  },
  {
   "cell_type": "code",
   "execution_count": 82,
   "id": "e2aac44c",
   "metadata": {},
   "outputs": [
    {
     "data": {
      "text/plain": [
       "'black-green-red-white-yellow'"
      ]
     },
     "execution_count": 82,
     "metadata": {},
     "output_type": "execute_result"
    }
   ],
   "source": [
    "def sequence(colors):\n",
    "    l =colors.split(\"-\")\n",
    "    l.sort()\n",
    "    colors2 = \"-\".join(l)\n",
    "    return colors2\n",
    "colors = \"green-red-yellow-black-white\"\n",
    "sequence(colors)"
   ]
  },
  {
   "cell_type": "code",
   "execution_count": 21,
   "id": "1f8ec4c4",
   "metadata": {},
   "outputs": [
    {
     "data": {
      "text/plain": [
       "[18, 22, 24]"
      ]
     },
     "execution_count": 21,
     "metadata": {},
     "output_type": "execute_result"
    }
   ],
   "source": [
    "import math\n",
    "li = [100,150,180]\n",
    "def ops(l): \n",
    "    a=50\n",
    "    c=30\n",
    "    newl = []\n",
    "    for b in l:\n",
    "        r = int(math.sqrt((2 * a * b)/c))\n",
    "        newl.append(r)\n",
    "    return newl\n",
    "ops(li)"
   ]
  },
  {
   "cell_type": "code",
   "execution_count": null,
   "id": "28f321a1",
   "metadata": {},
   "outputs": [],
   "source": []
  }
 ],
 "metadata": {
  "kernelspec": {
   "display_name": "Python 3",
   "language": "python",
   "name": "python3"
  },
  "language_info": {
   "codemirror_mode": {
    "name": "ipython",
    "version": 3
   },
   "file_extension": ".py",
   "mimetype": "text/x-python",
   "name": "python",
   "nbconvert_exporter": "python",
   "pygments_lexer": "ipython3",
   "version": "3.8.8"
  }
 },
 "nbformat": 4,
 "nbformat_minor": 5
}
