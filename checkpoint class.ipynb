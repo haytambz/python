{
 "cells": [
  {
   "cell_type": "code",
   "execution_count": 3,
   "id": "5176fc35",
   "metadata": {},
   "outputs": [
    {
     "name": "stdout",
     "output_type": "stream",
     "text": [
      "1 2 3\n"
     ]
    }
   ],
   "source": [
    "class point3D:\n",
    "    def __init__(self, x, y, z):\n",
    "        self.x = x\n",
    "        self.y = y\n",
    "        self.z = z\n",
    "\n",
    "my_point = point3D(1,2,3)\n",
    "\n",
    "print(my_point.x, my_point.y, my_point.z)"
   ]
  },
  {
   "cell_type": "code",
   "execution_count": 2,
   "id": "1dacd1cc",
   "metadata": {},
   "outputs": [
    {
     "name": "stdout",
     "output_type": "stream",
     "text": [
      "Area is 12\n",
      "Perimeter is 14\n"
     ]
    }
   ],
   "source": [
    "class rectangle:\n",
    "    def __init__(self, length, width):\n",
    "        self.length = length\n",
    "        self.width = width\n",
    "        \n",
    "    def area(self):\n",
    "        return self.length*self.width\n",
    "    def perimeter(self):\n",
    "        return 2*(self.length+self.width)\n",
    "\n",
    "r1 = rectangle(3,4)\n",
    "\n",
    "print(\"Area is\", r1.area())\n",
    "print(\"Perimeter is\", r1.perimeter())"
   ]
  },
  {
   "cell_type": "code",
   "execution_count": 30,
   "id": "fbb92592",
   "metadata": {},
   "outputs": [
    {
     "name": "stdout",
     "output_type": "stream",
     "text": [
      "Area is 28.274333882308138\n",
      "Perimeter is 18.84955592153876\n",
      "this point belongs to the circle False\n"
     ]
    }
   ],
   "source": [
    "import math\n",
    "class circle:\n",
    "    def __init__(self, Ox,Oy, radius):\n",
    "        self.Ox = Ox\n",
    "        self.Oy = Oy\n",
    "        self.radius = radius\n",
    "    def area(self):\n",
    "        return self.radius**2*math.pi\n",
    "    \n",
    "    def perimeter(self):\n",
    "        return 2*math.pi*self.radius\n",
    "    \n",
    "    def isinside(self,Ax,Ay):\n",
    "        s = math.sqrt((self.Ox-Ax)**2+(self.Oy-Ay)**2)\n",
    "        if s>self.radius:\n",
    "            return True\n",
    "        else:\n",
    "            return False\n",
    "c1 = circle(0,0,3)\n",
    "A = (1,1)\n",
    "print(\"Area is\", c1.area())\n",
    "print(\"Perimeter is\", c1.perimeter())\n",
    "print(\"this point belongs to the circle\", c1.isinside(1,2))"
   ]
  },
  {
   "cell_type": "code",
   "execution_count": 35,
   "id": "59462451",
   "metadata": {},
   "outputs": [
    {
     "name": "stdout",
     "output_type": "stream",
     "text": [
      "640\n"
     ]
    }
   ],
   "source": [
    "class bankaccount:\n",
    "    def __init__(self,amount):\n",
    "        self.amount = amount\n",
    "    def deposit(self,montant):\n",
    "        self.amount = self.amount+montant\n",
    "        return self.amount\n",
    "    \n",
    "    def withdraw(self,montant):\n",
    "        self.amount = self.amount-montant\n",
    "        return self.amount\n",
    "        \n",
    "ba = bankaccount(1000)\n",
    "print(ba.withdraw(360))"
   ]
  },
  {
   "cell_type": "code",
   "execution_count": null,
   "id": "e5dc1ff7",
   "metadata": {},
   "outputs": [],
   "source": []
  }
 ],
 "metadata": {
  "kernelspec": {
   "display_name": "Python 3",
   "language": "python",
   "name": "python3"
  },
  "language_info": {
   "codemirror_mode": {
    "name": "ipython",
    "version": 3
   },
   "file_extension": ".py",
   "mimetype": "text/x-python",
   "name": "python",
   "nbconvert_exporter": "python",
   "pygments_lexer": "ipython3",
   "version": "3.8.8"
  }
 },
 "nbformat": 4,
 "nbformat_minor": 5
}
